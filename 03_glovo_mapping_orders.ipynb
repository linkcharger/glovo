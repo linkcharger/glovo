{
 "cells": [
  {
   "cell_type": "code",
   "execution_count": null,
   "metadata": {},
   "outputs": [
    {
     "name": "stderr",
     "output_type": "stream",
     "text": [
      "/homes/users/aschade/.local/lib/python3.8/site-packages/dask_jobqueue/core.py:20: FutureWarning: tmpfile is deprecated and will be removed in a future release. Please use dask.utils.tmpfile instead.\n",
      "  from distributed.utils import tmpfile\n"
     ]
    }
   ],
   "source": [
    "import pandas as pd\n",
    "import numpy as np\n",
    "\n",
    "import dask.dataframe as dd\n",
    "from dask.distributed import Client\n",
    "from dask_jobqueue import SLURMCluster\n",
    "import hvplot.dask\n",
    "\n",
    "from folium import Map\n",
    "from folium.plugins import HeatMap, HeatMapWithTime"
   ]
  },
  {
   "cell_type": "code",
   "execution_count": null,
   "metadata": {
    "scrolled": true
   },
   "outputs": [],
   "source": [
    "!squeue -u aschade"
   ]
  },
  {
   "cell_type": "code",
   "execution_count": 2,
   "metadata": {},
   "outputs": [],
   "source": [
    "!scancel -u aschade"
   ]
  },
  {
   "cell_type": "code",
   "execution_count": 3,
   "metadata": {},
   "outputs": [
    {
     "name": "stdout",
     "output_type": "stream",
     "text": [
      "<Client: 'tcp://10.30.50.163:46200' processes=0 threads=0, memory=0 B>\n",
      "http://10.60.110.163:35587/status\n",
      "http://10.60.110.163:35587/workers\n",
      "http://10.60.110.163:35587/graph\n"
     ]
    },
    {
     "name": "stderr",
     "output_type": "stream",
     "text": [
      "/homes/users/aschade/.local/lib/python3.8/site-packages/distributed/node.py:177: UserWarning: Port 8787 is already in use.\n",
      "Perhaps you already have a cluster running?\n",
      "Hosting the HTTP server on port 35587 instead\n",
      "  warnings.warn(\n"
     ]
    }
   ],
   "source": [
    "cluster = SLURMCluster(\n",
    "    cores=12,                          \n",
    "    memory='200GB',  \n",
    "#     memory='1400GB',\n",
    "    \n",
    "    local_directory='~/scratch',\n",
    "    job_extra=[\n",
    "#         '--reservation=lab_rdurante_304',\n",
    "        '--time=08:00:00',\n",
    "        \n",
    "        '--partition=haswell',    \n",
    "        '--nodes=1',\n",
    "        \n",
    "        '--job-name=dask',\n",
    "        '--output=dask.out', \n",
    "        '--error=dask.error', \n",
    "        '--mail-user=aaron.schade@upf.edu',\n",
    "        '--mail-type=NONE', \n",
    "    ],    \n",
    "    n_workers=1,                 # this is internal to one job? one node? \n",
    "    \n",
    "    interface='ib0',               # workers, no diag: em1, em2, ib0,   # no workers: lo, em1.851, idrac, em3 & em4 (no ipv4)\n",
    "    scheduler_options={\n",
    "#         'interface': 'em1',      # it wont allow you specify both an interface AND a host address\n",
    "        'host': '10.30.50.163',    # launch on this address, open dashboard on the other?\n",
    "    },\n",
    ")\n",
    "cluster.scale(jobs=1)\n",
    "\n",
    "\n",
    "scheduler = Client(cluster)\n",
    "print(scheduler)\n",
    "dashboardLink = scheduler.dashboard_link.replace('10.30.50.163', '10.60.110.163')\n",
    "# dashboardLink = scheduler.dashboard_link\n",
    "print(dashboardLink)\n",
    "print(dashboardLink.replace('status', 'workers'))\n",
    "print(dashboardLink.replace('status', 'graph'))"
   ]
  },
  {
   "cell_type": "code",
   "execution_count": 4,
   "metadata": {
    "scrolled": true
   },
   "outputs": [
    {
     "name": "stdout",
     "output_type": "stream",
     "text": [
      "             JOBID PARTITION     NAME     USER ST       TIME  NODES NODELIST(REASON)\r\n",
      "          19245734   haswell     dask  aschade CG       6:02      1 mr-00-14\r\n",
      "          19245735   haswell     dask  aschade PD       0:00      1 (None)\r\n"
     ]
    }
   ],
   "source": [
    "!squeue -u aschade"
   ]
  },
  {
   "cell_type": "code",
   "execution_count": 5,
   "metadata": {},
   "outputs": [
    {
     "data": {
      "text/html": [
       "<div>\n",
       "<style scoped>\n",
       "    .dataframe tbody tr th:only-of-type {\n",
       "        vertical-align: middle;\n",
       "    }\n",
       "\n",
       "    .dataframe tbody tr th {\n",
       "        vertical-align: top;\n",
       "    }\n",
       "\n",
       "    .dataframe thead th {\n",
       "        text-align: right;\n",
       "    }\n",
       "</style>\n",
       "<table border=\"1\" class=\"dataframe\">\n",
       "  <thead>\n",
       "    <tr style=\"text-align: right;\">\n",
       "      <th></th>\n",
       "      <th>indexNumber</th>\n",
       "      <th>order_category</th>\n",
       "      <th>order_description</th>\n",
       "      <th>purchases_total_price</th>\n",
       "      <th>total_delivery_time_minutes</th>\n",
       "      <th>courier_total_distance_driven</th>\n",
       "      <th>pickup_latitude</th>\n",
       "      <th>pickup_longitude</th>\n",
       "      <th>delivery_latitude</th>\n",
       "      <th>delivery_longitude</th>\n",
       "      <th>...</th>\n",
       "      <th>order_weather_revenue_without_tax_eur</th>\n",
       "      <th>order_basket_revenue_without_tax_eur</th>\n",
       "      <th>order_total_partner_commission_eur</th>\n",
       "      <th>order_is_prime</th>\n",
       "      <th>order_bonus_coefficient</th>\n",
       "      <th>order_bonus_reason</th>\n",
       "      <th>order_base_cost_eur</th>\n",
       "      <th>order_bonus_cost_eur</th>\n",
       "      <th>order_courier_rain_bonus_eur</th>\n",
       "      <th>order_total_cost_eur</th>\n",
       "    </tr>\n",
       "    <tr>\n",
       "      <th>order_date_time</th>\n",
       "      <th></th>\n",
       "      <th></th>\n",
       "      <th></th>\n",
       "      <th></th>\n",
       "      <th></th>\n",
       "      <th></th>\n",
       "      <th></th>\n",
       "      <th></th>\n",
       "      <th></th>\n",
       "      <th></th>\n",
       "      <th></th>\n",
       "      <th></th>\n",
       "      <th></th>\n",
       "      <th></th>\n",
       "      <th></th>\n",
       "      <th></th>\n",
       "      <th></th>\n",
       "      <th></th>\n",
       "      <th></th>\n",
       "      <th></th>\n",
       "      <th></th>\n",
       "    </tr>\n",
       "  </thead>\n",
       "  <tbody>\n",
       "    <tr>\n",
       "      <th>2019-02-01 00:00:01</th>\n",
       "      <td>116</td>\n",
       "      <td>RESTAURANT</td>\n",
       "      <td>1 x Quesadilla de Jamón y Queso -  Salsa de Qu...</td>\n",
       "      <td>35.4</td>\n",
       "      <td>37.3000</td>\n",
       "      <td>1.134</td>\n",
       "      <td>40.439811</td>\n",
       "      <td>-3.682568</td>\n",
       "      <td>40.447795</td>\n",
       "      <td>-3.679396</td>\n",
       "      <td>...</td>\n",
       "      <td>1.23967</td>\n",
       "      <td>0.0</td>\n",
       "      <td>7.08</td>\n",
       "      <td>False</td>\n",
       "      <td>130.0</td>\n",
       "      <td>BAD_WEATHER</td>\n",
       "      <td>3.23620</td>\n",
       "      <td>0.96</td>\n",
       "      <td>0.96</td>\n",
       "      <td>4.19620</td>\n",
       "    </tr>\n",
       "    <tr>\n",
       "      <th>2019-02-01 00:00:02</th>\n",
       "      <td>119</td>\n",
       "      <td>RESTAURANT</td>\n",
       "      <td>1 x Ensalada Mediterránea \\n1 x Hamburguesa de...</td>\n",
       "      <td>7.0</td>\n",
       "      <td>34.7333</td>\n",
       "      <td>6.037</td>\n",
       "      <td>39.491367</td>\n",
       "      <td>-0.376666</td>\n",
       "      <td>39.463103</td>\n",
       "      <td>-0.380344</td>\n",
       "      <td>...</td>\n",
       "      <td>0.00000</td>\n",
       "      <td>0.0</td>\n",
       "      <td>2.10</td>\n",
       "      <td>False</td>\n",
       "      <td>100.0</td>\n",
       "      <td>None</td>\n",
       "      <td>4.44888</td>\n",
       "      <td>0.00</td>\n",
       "      <td>0.00</td>\n",
       "      <td>4.44888</td>\n",
       "    </tr>\n",
       "    <tr>\n",
       "      <th>2019-02-01 00:00:07</th>\n",
       "      <td>121</td>\n",
       "      <td>MCDONALDSES</td>\n",
       "      <td>1 x McMenú® Grand McExtreme™ de McDonald's Bac...</td>\n",
       "      <td>16.5</td>\n",
       "      <td>37.0333</td>\n",
       "      <td>4.093</td>\n",
       "      <td>41.403863</td>\n",
       "      <td>2.173470</td>\n",
       "      <td>41.412427</td>\n",
       "      <td>2.163945</td>\n",
       "      <td>...</td>\n",
       "      <td>0.00000</td>\n",
       "      <td>0.0</td>\n",
       "      <td>0.00</td>\n",
       "      <td>False</td>\n",
       "      <td>100.0</td>\n",
       "      <td>None</td>\n",
       "      <td>4.44623</td>\n",
       "      <td>0.00</td>\n",
       "      <td>0.00</td>\n",
       "      <td>4.44623</td>\n",
       "    </tr>\n",
       "    <tr>\n",
       "      <th>2019-02-01 00:00:13</th>\n",
       "      <td>123</td>\n",
       "      <td>RESTAURANT</td>\n",
       "      <td>2 x TGB Burger\\n2 x Patatas Bastón Medianas - ...</td>\n",
       "      <td>16.8</td>\n",
       "      <td>42.0000</td>\n",
       "      <td>6.539</td>\n",
       "      <td>40.429598</td>\n",
       "      <td>-3.714873</td>\n",
       "      <td>40.406064</td>\n",
       "      <td>-3.679678</td>\n",
       "      <td>...</td>\n",
       "      <td>0.00000</td>\n",
       "      <td>0.0</td>\n",
       "      <td>5.04</td>\n",
       "      <td>False</td>\n",
       "      <td>130.0</td>\n",
       "      <td>BAD_WEATHER</td>\n",
       "      <td>4.72326</td>\n",
       "      <td>1.41</td>\n",
       "      <td>1.41</td>\n",
       "      <td>6.13326</td>\n",
       "    </tr>\n",
       "    <tr>\n",
       "      <th>2019-02-01 00:00:19</th>\n",
       "      <td>125</td>\n",
       "      <td>RESTAURANT</td>\n",
       "      <td>1 x Deluxe Mix (12 uds.)\\n1 x Maki Mix (24 uds.)</td>\n",
       "      <td>22.8</td>\n",
       "      <td>56.7500</td>\n",
       "      <td>14.671</td>\n",
       "      <td>40.431684</td>\n",
       "      <td>-3.709129</td>\n",
       "      <td>40.381163</td>\n",
       "      <td>-3.743104</td>\n",
       "      <td>...</td>\n",
       "      <td>0.00000</td>\n",
       "      <td>0.0</td>\n",
       "      <td>9.12</td>\n",
       "      <td>False</td>\n",
       "      <td>130.0</td>\n",
       "      <td>BAD_WEATHER</td>\n",
       "      <td>7.50981</td>\n",
       "      <td>2.25</td>\n",
       "      <td>2.25</td>\n",
       "      <td>9.75981</td>\n",
       "    </tr>\n",
       "  </tbody>\n",
       "</table>\n",
       "<p>5 rows × 32 columns</p>\n",
       "</div>"
      ],
      "text/plain": [
       "                     indexNumber order_category  \\\n",
       "order_date_time                                   \n",
       "2019-02-01 00:00:01          116     RESTAURANT   \n",
       "2019-02-01 00:00:02          119     RESTAURANT   \n",
       "2019-02-01 00:00:07          121    MCDONALDSES   \n",
       "2019-02-01 00:00:13          123     RESTAURANT   \n",
       "2019-02-01 00:00:19          125     RESTAURANT   \n",
       "\n",
       "                                                     order_description  \\\n",
       "order_date_time                                                          \n",
       "2019-02-01 00:00:01  1 x Quesadilla de Jamón y Queso -  Salsa de Qu...   \n",
       "2019-02-01 00:00:02  1 x Ensalada Mediterránea \\n1 x Hamburguesa de...   \n",
       "2019-02-01 00:00:07  1 x McMenú® Grand McExtreme™ de McDonald's Bac...   \n",
       "2019-02-01 00:00:13  2 x TGB Burger\\n2 x Patatas Bastón Medianas - ...   \n",
       "2019-02-01 00:00:19   1 x Deluxe Mix (12 uds.)\\n1 x Maki Mix (24 uds.)   \n",
       "\n",
       "                     purchases_total_price  total_delivery_time_minutes  \\\n",
       "order_date_time                                                           \n",
       "2019-02-01 00:00:01                   35.4                      37.3000   \n",
       "2019-02-01 00:00:02                    7.0                      34.7333   \n",
       "2019-02-01 00:00:07                   16.5                      37.0333   \n",
       "2019-02-01 00:00:13                   16.8                      42.0000   \n",
       "2019-02-01 00:00:19                   22.8                      56.7500   \n",
       "\n",
       "                     courier_total_distance_driven  pickup_latitude  \\\n",
       "order_date_time                                                       \n",
       "2019-02-01 00:00:01                          1.134        40.439811   \n",
       "2019-02-01 00:00:02                          6.037        39.491367   \n",
       "2019-02-01 00:00:07                          4.093        41.403863   \n",
       "2019-02-01 00:00:13                          6.539        40.429598   \n",
       "2019-02-01 00:00:19                         14.671        40.431684   \n",
       "\n",
       "                     pickup_longitude  delivery_latitude  delivery_longitude  \\\n",
       "order_date_time                                                                \n",
       "2019-02-01 00:00:01         -3.682568          40.447795           -3.679396   \n",
       "2019-02-01 00:00:02         -0.376666          39.463103           -0.380344   \n",
       "2019-02-01 00:00:07          2.173470          41.412427            2.163945   \n",
       "2019-02-01 00:00:13         -3.714873          40.406064           -3.679678   \n",
       "2019-02-01 00:00:19         -3.709129          40.381163           -3.743104   \n",
       "\n",
       "                     ... order_weather_revenue_without_tax_eur  \\\n",
       "order_date_time      ...                                         \n",
       "2019-02-01 00:00:01  ...                               1.23967   \n",
       "2019-02-01 00:00:02  ...                               0.00000   \n",
       "2019-02-01 00:00:07  ...                               0.00000   \n",
       "2019-02-01 00:00:13  ...                               0.00000   \n",
       "2019-02-01 00:00:19  ...                               0.00000   \n",
       "\n",
       "                    order_basket_revenue_without_tax_eur  \\\n",
       "order_date_time                                            \n",
       "2019-02-01 00:00:01                                  0.0   \n",
       "2019-02-01 00:00:02                                  0.0   \n",
       "2019-02-01 00:00:07                                  0.0   \n",
       "2019-02-01 00:00:13                                  0.0   \n",
       "2019-02-01 00:00:19                                  0.0   \n",
       "\n",
       "                    order_total_partner_commission_eur order_is_prime  \\\n",
       "order_date_time                                                         \n",
       "2019-02-01 00:00:01                               7.08          False   \n",
       "2019-02-01 00:00:02                               2.10          False   \n",
       "2019-02-01 00:00:07                               0.00          False   \n",
       "2019-02-01 00:00:13                               5.04          False   \n",
       "2019-02-01 00:00:19                               9.12          False   \n",
       "\n",
       "                    order_bonus_coefficient order_bonus_reason  \\\n",
       "order_date_time                                                  \n",
       "2019-02-01 00:00:01                   130.0        BAD_WEATHER   \n",
       "2019-02-01 00:00:02                   100.0               None   \n",
       "2019-02-01 00:00:07                   100.0               None   \n",
       "2019-02-01 00:00:13                   130.0        BAD_WEATHER   \n",
       "2019-02-01 00:00:19                   130.0        BAD_WEATHER   \n",
       "\n",
       "                    order_base_cost_eur order_bonus_cost_eur  \\\n",
       "order_date_time                                                \n",
       "2019-02-01 00:00:01             3.23620                 0.96   \n",
       "2019-02-01 00:00:02             4.44888                 0.00   \n",
       "2019-02-01 00:00:07             4.44623                 0.00   \n",
       "2019-02-01 00:00:13             4.72326                 1.41   \n",
       "2019-02-01 00:00:19             7.50981                 2.25   \n",
       "\n",
       "                    order_courier_rain_bonus_eur  order_total_cost_eur  \n",
       "order_date_time                                                         \n",
       "2019-02-01 00:00:01                         0.96               4.19620  \n",
       "2019-02-01 00:00:02                         0.00               4.44888  \n",
       "2019-02-01 00:00:07                         0.00               4.44623  \n",
       "2019-02-01 00:00:13                         1.41               6.13326  \n",
       "2019-02-01 00:00:19                         2.25               9.75981  \n",
       "\n",
       "[5 rows x 32 columns]"
      ]
     },
     "execution_count": 5,
     "metadata": {},
     "output_type": "execute_result"
    }
   ],
   "source": [
    "orders = dd.read_parquet('~/scratch/glovo/parquet/orders/')\n",
    "orders.head()"
   ]
  },
  {
   "cell_type": "code",
   "execution_count": 6,
   "metadata": {},
   "outputs": [
    {
     "data": {
      "text/plain": [
       "24697040"
      ]
     },
     "execution_count": 6,
     "metadata": {},
     "output_type": "execute_result"
    }
   ],
   "source": [
    "len(orders)"
   ]
  },
  {
   "cell_type": "code",
   "execution_count": 9,
   "metadata": {},
   "outputs": [
    {
     "data": {
      "text/plain": [
       "9878815"
      ]
     },
     "execution_count": 9,
     "metadata": {},
     "output_type": "execute_result"
    }
   ],
   "source": [
    "ordersSample = orders.sample(frac=0.4).compute()\n",
    "len(ordersSample)"
   ]
  },
  {
   "cell_type": "code",
   "execution_count": null,
   "metadata": {},
   "outputs": [],
   "source": [
    "map = Map(location=[39.9941042,-2.8447872], zoom_start=6)\n",
    "heatmap = HeatMap(\n",
    "    data=list(zip(ordersSample.delivery_latitude, ordersSample.delivery_longitude)), \n",
    "    min_opacity=0.3, \n",
    "    radius=10, \n",
    "    blur=10, \n",
    "    max_zoom=1, \n",
    ").add_to(map)\n",
    "\n",
    "map"
   ]
  },
  {
   "cell_type": "code",
   "execution_count": 11,
   "metadata": {},
   "outputs": [],
   "source": [
    "map.save('outputs/orders_spatial_distribution.html')"
   ]
  }
 ],
 "metadata": {
  "kernelspec": {
   "display_name": "Python 3",
   "language": "python",
   "name": "python3"
  },
  "language_info": {
   "codemirror_mode": {
    "name": "ipython",
    "version": 3
   },
   "file_extension": ".py",
   "mimetype": "text/x-python",
   "name": "python",
   "nbconvert_exporter": "python",
   "pygments_lexer": "ipython3",
   "version": "3.8.2"
  }
 },
 "nbformat": 4,
 "nbformat_minor": 4
}
